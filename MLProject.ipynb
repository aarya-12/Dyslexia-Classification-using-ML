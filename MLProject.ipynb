{
  "nbformat": 4,
  "nbformat_minor": 0,
  "metadata": {
    "colab": {
      "provenance": []
    },
    "kernelspec": {
      "name": "python3",
      "display_name": "Python 3"
    },
    "language_info": {
      "name": "python"
    }
  },
  "cells": [
    {
      "cell_type": "markdown",
      "source": [
        "Dyslexia Classification using Machine Learning Algorithms\n",
        "\n",
        "Members: Aarya Mujumdar, Prasanna Tapkire, Ayush Shete\n",
        "\n",
        "Group No. 27\n",
        "\n",
        "\n",
        "\n"
      ],
      "metadata": {
        "id": "vii1iIZxX-pw"
      }
    },
    {
      "cell_type": "code",
      "source": [
        "from google.colab import drive\n",
        "\n",
        "drive.mount('/content/drive/')"
      ],
      "metadata": {
        "colab": {
          "base_uri": "https://localhost:8080/"
        },
        "id": "nNM2e2NfMmMV",
        "outputId": "668e1dd2-c46e-4416-f3ca-a6d033a72524"
      },
      "execution_count": null,
      "outputs": [
        {
          "output_type": "stream",
          "name": "stdout",
          "text": [
            "Mounted at /content/drive/\n"
          ]
        }
      ]
    },
    {
      "cell_type": "code",
      "source": [
        "!pip uninstall scikit-learn\n",
        "!pip install scikit-learn"
      ],
      "metadata": {
        "colab": {
          "base_uri": "https://localhost:8080/"
        },
        "id": "dNUdokp7UfZZ",
        "outputId": "31271e64-cdc3-42b7-bcdf-265954f64ab4"
      },
      "execution_count": null,
      "outputs": [
        {
          "output_type": "stream",
          "name": "stdout",
          "text": [
            "Found existing installation: scikit-learn 1.2.2\n",
            "Uninstalling scikit-learn-1.2.2:\n",
            "  Would remove:\n",
            "    /usr/local/lib/python3.10/dist-packages/scikit_learn-1.2.2.dist-info/*\n",
            "    /usr/local/lib/python3.10/dist-packages/scikit_learn.libs/libgomp-a34b3233.so.1.0.0\n",
            "    /usr/local/lib/python3.10/dist-packages/sklearn/*\n",
            "Proceed (Y/n)? \u001b[31mERROR: Operation cancelled by user\u001b[0m\u001b[31m\n",
            "\u001b[0mTraceback (most recent call last):\n",
            "  File \"/usr/local/lib/python3.10/dist-packages/pip/_internal/cli/base_command.py\", line 169, in exc_logging_wrapper\n",
            "    status = run_func(*args)\n",
            "  File \"/usr/local/lib/python3.10/dist-packages/pip/_internal/commands/uninstall.py\", line 105, in run\n",
            "    uninstall_pathset = req.uninstall(\n",
            "  File \"/usr/local/lib/python3.10/dist-packages/pip/_internal/req/req_install.py\", line 680, in uninstall\n",
            "    uninstalled_pathset.remove(auto_confirm, verbose)\n",
            "  File \"/usr/local/lib/python3.10/dist-packages/pip/_internal/req/req_uninstall.py\", line 375, in remove\n",
            "    if auto_confirm or self._allowed_to_proceed(verbose):\n",
            "  File \"/usr/local/lib/python3.10/dist-packages/pip/_internal/req/req_uninstall.py\", line 415, in _allowed_to_proceed\n",
            "    return ask(\"Proceed (Y/n)? \", (\"y\", \"n\", \"\")) != \"n\"\n",
            "  File \"/usr/local/lib/python3.10/dist-packages/pip/_internal/utils/misc.py\", line 192, in ask\n",
            "    response = input(message)\n",
            "KeyboardInterrupt\n",
            "\n",
            "During handling of the above exception, another exception occurred:\n",
            "\n",
            "Traceback (most recent call last):\n",
            "  File \"/usr/local/bin/pip3\", line 8, in <module>\n",
            "    sys.exit(main())\n",
            "  File \"/usr/local/lib/python3.10/dist-packages/pip/_internal/cli/main.py\", line 79, in main\n",
            "    return command.main(cmd_args)\n",
            "  File \"/usr/local/lib/python3.10/dist-packages/pip/_internal/cli/base_command.py\", line 101, in main\n",
            "    return self._main(args)\n",
            "  File \"/usr/local/lib/python3.10/dist-packages/pip/_internal/cli/base_command.py\", line 223, in _main\n",
            "    return run(options, args)\n",
            "  File \"/usr/local/lib/python3.10/dist-packages/pip/_internal/cli/base_command.py\", line 207, in exc_logging_wrapper\n",
            "    logger.debug(\"Exception information:\", exc_info=True)\n",
            "  File \"/usr/lib/python3.10/logging/__init__.py\", line 1465, in debug\n",
            "    self._log(DEBUG, msg, args, **kwargs)\n",
            "  File \"/usr/lib/python3.10/logging/__init__.py\", line 1624, in _log\n",
            "    self.handle(record)\n",
            "  File \"/usr/lib/python3.10/logging/__init__.py\", line 1634, in handle\n",
            "    self.callHandlers(record)\n",
            "  File \"/usr/lib/python3.10/logging/__init__.py\", line 1696, in callHandlers\n",
            "    hdlr.handle(record)\n",
            "  File \"/usr/lib/python3.10/logging/__init__.py\", line 968, in handle\n",
            "    self.emit(record)\n",
            "  File \"/usr/lib/python3.10/logging/handlers.py\", line 75, in emit\n",
            "    logging.FileHandler.emit(self, record)\n",
            "  File \"/usr/lib/python3.10/logging/__init__.py\", line 1218, in emit\n",
            "    StreamHandler.emit(self, record)\n",
            "  File \"/usr/lib/python3.10/logging/__init__.py\", line 1100, in emit\n",
            "    msg = self.format(record)\n",
            "  File \"/usr/lib/python3.10/logging/__init__.py\", line 943, in format\n",
            "    return fmt.format(record)\n",
            "  File \"/usr/local/lib/python3.10/dist-packages/pip/_internal/utils/logging.py\", line 112, in format\n",
            "    formatted = super().format(record)\n",
            "  File \"/usr/lib/python3.10/logging/__init__.py\", line 686, in format\n",
            "    record.exc_text = self.formatException(record.exc_info)\n",
            "  File \"/usr/lib/python3.10/logging/__init__.py\", line 636, in formatException\n",
            "    traceback.print_exception(ei[0], ei[1], tb, None, sio)\n",
            "  File \"/usr/lib/python3.10/traceback.py\", line 119, in print_exception\n",
            "    te = TracebackException(type(value), value, tb, limit=limit, compact=True)\n",
            "  File \"/usr/lib/python3.10/traceback.py\", line 502, in __init__\n",
            "    self.stack = StackSummary.extract(\n",
            "  File \"/usr/lib/python3.10/traceback.py\", line 383, in extract\n",
            "    f.line\n",
            "  File \"/usr/lib/python3.10/traceback.py\", line 306, in line\n",
            "    self._line = linecache.getline(self.filename, self.lineno)\n",
            "  File \"/usr/lib/python3.10/linecache.py\", line 30, in getline\n",
            "    lines = getlines(filename, module_globals)\n",
            "  File \"/usr/lib/python3.10/linecache.py\", line 46, in getlines\n",
            "    return updatecache(filename, module_globals)\n",
            "  File \"/usr/lib/python3.10/linecache.py\", line 136, in updatecache\n",
            "    with tokenize.open(fullname) as fp:\n",
            "  File \"/usr/lib/python3.10/tokenize.py\", line 396, in open\n",
            "    encoding, lines = detect_encoding(buffer.readline)\n",
            "  File \"/usr/lib/python3.10/tokenize.py\", line 365, in detect_encoding\n",
            "    first = read_or_stop()\n",
            "  File \"/usr/lib/python3.10/tokenize.py\", line 323, in read_or_stop\n",
            "    return readline()\n",
            "KeyboardInterrupt\n",
            "^C\n",
            "Requirement already satisfied: scikit-learn in /usr/local/lib/python3.10/dist-packages (1.2.2)\n",
            "Requirement already satisfied: numpy>=1.17.3 in /usr/local/lib/python3.10/dist-packages (from scikit-learn) (1.23.5)\n",
            "Requirement already satisfied: scipy>=1.3.2 in /usr/local/lib/python3.10/dist-packages (from scikit-learn) (1.11.3)\n",
            "Requirement already satisfied: joblib>=1.1.1 in /usr/local/lib/python3.10/dist-packages (from scikit-learn) (1.3.2)\n",
            "Requirement already satisfied: threadpoolctl>=2.0.0 in /usr/local/lib/python3.10/dist-packages (from scikit-learn) (3.2.0)\n"
          ]
        }
      ]
    },
    {
      "cell_type": "code",
      "execution_count": null,
      "metadata": {
        "id": "rUOBy4AAThT9"
      },
      "outputs": [],
      "source": [
        "from sklearn.metrics import accuracy_score,f1_score\n",
        "from sklearn.metrics import ConfusionMatrixDisplay\n",
        "from sklearn.svm import SVC\n",
        "from sklearn.model_selection import train_test_split\n",
        "import numpy as np\n",
        "import pandas as pd\n",
        "from sklearn.ensemble import RandomForestClassifier\n",
        "from sklearn.tree import DecisionTreeClassifier\n",
        "import seaborn as sns\n",
        "import matplotlib.pyplot as plt\n",
        "from sklearn.preprocessing import StandardScaler\n",
        "from sklearn.metrics import f1_score\n",
        "from sklearn.metrics import precision_recall_fscore_support\n",
        "from sklearn.metrics import confusion_matrix\n",
        "import matplotlib.pyplot as plt# doctest: +SKIP\n",
        "from sklearn.metrics import mean_absolute_error\n",
        "%matplotlib inline"
      ]
    },
    {
      "cell_type": "code",
      "source": [
        "from sklearn.metrics import confusion_matrix"
      ],
      "metadata": {
        "id": "QTu6ttT8Tm1U"
      },
      "execution_count": null,
      "outputs": []
    },
    {
      "cell_type": "code",
      "source": [
        "#Reading the dataset\n",
        "data=pd.read_csv('/content/drive/My Drive/labeled_dysx.csv')\n",
        "#Value to be predicted by the model.\n",
        "y=data.Label\n",
        "#Input taken by the model.\n",
        "X=data.drop(['Label'],axis=1)\n",
        "data.head()"
      ],
      "metadata": {
        "id": "fJBmOhBSWBIG",
        "colab": {
          "base_uri": "https://localhost:8080/",
          "height": 206
        },
        "outputId": "5b89e734-e8fb-423e-9c31-2956f3e3bc7b"
      },
      "execution_count": null,
      "outputs": [
        {
          "output_type": "execute_result",
          "data": {
            "text/plain": [
              "   Language_vocab  Memory  Speed  Visual_discrimination  Audio_Discrimination  \\\n",
              "0             0.5     0.6    0.5                    0.8                   0.6   \n",
              "1             0.6     0.7    0.8                    0.9                   0.5   \n",
              "2             0.6     0.4    0.3                    0.3                   0.4   \n",
              "3             0.3     0.5    0.2                    0.1                   0.3   \n",
              "4             0.7     0.6    0.7                    0.8                   0.9   \n",
              "\n",
              "   Survey_Score  Label  \n",
              "0           0.7      1  \n",
              "1           0.8      2  \n",
              "2           0.6      1  \n",
              "3           0.5      0  \n",
              "4           0.5      2  "
            ],
            "text/html": [
              "\n",
              "  <div id=\"df-c6ac0faa-b727-44ba-a654-a6c0f5cd0464\" class=\"colab-df-container\">\n",
              "    <div>\n",
              "<style scoped>\n",
              "    .dataframe tbody tr th:only-of-type {\n",
              "        vertical-align: middle;\n",
              "    }\n",
              "\n",
              "    .dataframe tbody tr th {\n",
              "        vertical-align: top;\n",
              "    }\n",
              "\n",
              "    .dataframe thead th {\n",
              "        text-align: right;\n",
              "    }\n",
              "</style>\n",
              "<table border=\"1\" class=\"dataframe\">\n",
              "  <thead>\n",
              "    <tr style=\"text-align: right;\">\n",
              "      <th></th>\n",
              "      <th>Language_vocab</th>\n",
              "      <th>Memory</th>\n",
              "      <th>Speed</th>\n",
              "      <th>Visual_discrimination</th>\n",
              "      <th>Audio_Discrimination</th>\n",
              "      <th>Survey_Score</th>\n",
              "      <th>Label</th>\n",
              "    </tr>\n",
              "  </thead>\n",
              "  <tbody>\n",
              "    <tr>\n",
              "      <th>0</th>\n",
              "      <td>0.5</td>\n",
              "      <td>0.6</td>\n",
              "      <td>0.5</td>\n",
              "      <td>0.8</td>\n",
              "      <td>0.6</td>\n",
              "      <td>0.7</td>\n",
              "      <td>1</td>\n",
              "    </tr>\n",
              "    <tr>\n",
              "      <th>1</th>\n",
              "      <td>0.6</td>\n",
              "      <td>0.7</td>\n",
              "      <td>0.8</td>\n",
              "      <td>0.9</td>\n",
              "      <td>0.5</td>\n",
              "      <td>0.8</td>\n",
              "      <td>2</td>\n",
              "    </tr>\n",
              "    <tr>\n",
              "      <th>2</th>\n",
              "      <td>0.6</td>\n",
              "      <td>0.4</td>\n",
              "      <td>0.3</td>\n",
              "      <td>0.3</td>\n",
              "      <td>0.4</td>\n",
              "      <td>0.6</td>\n",
              "      <td>1</td>\n",
              "    </tr>\n",
              "    <tr>\n",
              "      <th>3</th>\n",
              "      <td>0.3</td>\n",
              "      <td>0.5</td>\n",
              "      <td>0.2</td>\n",
              "      <td>0.1</td>\n",
              "      <td>0.3</td>\n",
              "      <td>0.5</td>\n",
              "      <td>0</td>\n",
              "    </tr>\n",
              "    <tr>\n",
              "      <th>4</th>\n",
              "      <td>0.7</td>\n",
              "      <td>0.6</td>\n",
              "      <td>0.7</td>\n",
              "      <td>0.8</td>\n",
              "      <td>0.9</td>\n",
              "      <td>0.5</td>\n",
              "      <td>2</td>\n",
              "    </tr>\n",
              "  </tbody>\n",
              "</table>\n",
              "</div>\n",
              "    <div class=\"colab-df-buttons\">\n",
              "\n",
              "  <div class=\"colab-df-container\">\n",
              "    <button class=\"colab-df-convert\" onclick=\"convertToInteractive('df-c6ac0faa-b727-44ba-a654-a6c0f5cd0464')\"\n",
              "            title=\"Convert this dataframe to an interactive table.\"\n",
              "            style=\"display:none;\">\n",
              "\n",
              "  <svg xmlns=\"http://www.w3.org/2000/svg\" height=\"24px\" viewBox=\"0 -960 960 960\">\n",
              "    <path d=\"M120-120v-720h720v720H120Zm60-500h600v-160H180v160Zm220 220h160v-160H400v160Zm0 220h160v-160H400v160ZM180-400h160v-160H180v160Zm440 0h160v-160H620v160ZM180-180h160v-160H180v160Zm440 0h160v-160H620v160Z\"/>\n",
              "  </svg>\n",
              "    </button>\n",
              "\n",
              "  <style>\n",
              "    .colab-df-container {\n",
              "      display:flex;\n",
              "      gap: 12px;\n",
              "    }\n",
              "\n",
              "    .colab-df-convert {\n",
              "      background-color: #E8F0FE;\n",
              "      border: none;\n",
              "      border-radius: 50%;\n",
              "      cursor: pointer;\n",
              "      display: none;\n",
              "      fill: #1967D2;\n",
              "      height: 32px;\n",
              "      padding: 0 0 0 0;\n",
              "      width: 32px;\n",
              "    }\n",
              "\n",
              "    .colab-df-convert:hover {\n",
              "      background-color: #E2EBFA;\n",
              "      box-shadow: 0px 1px 2px rgba(60, 64, 67, 0.3), 0px 1px 3px 1px rgba(60, 64, 67, 0.15);\n",
              "      fill: #174EA6;\n",
              "    }\n",
              "\n",
              "    .colab-df-buttons div {\n",
              "      margin-bottom: 4px;\n",
              "    }\n",
              "\n",
              "    [theme=dark] .colab-df-convert {\n",
              "      background-color: #3B4455;\n",
              "      fill: #D2E3FC;\n",
              "    }\n",
              "\n",
              "    [theme=dark] .colab-df-convert:hover {\n",
              "      background-color: #434B5C;\n",
              "      box-shadow: 0px 1px 3px 1px rgba(0, 0, 0, 0.15);\n",
              "      filter: drop-shadow(0px 1px 2px rgba(0, 0, 0, 0.3));\n",
              "      fill: #FFFFFF;\n",
              "    }\n",
              "  </style>\n",
              "\n",
              "    <script>\n",
              "      const buttonEl =\n",
              "        document.querySelector('#df-c6ac0faa-b727-44ba-a654-a6c0f5cd0464 button.colab-df-convert');\n",
              "      buttonEl.style.display =\n",
              "        google.colab.kernel.accessAllowed ? 'block' : 'none';\n",
              "\n",
              "      async function convertToInteractive(key) {\n",
              "        const element = document.querySelector('#df-c6ac0faa-b727-44ba-a654-a6c0f5cd0464');\n",
              "        const dataTable =\n",
              "          await google.colab.kernel.invokeFunction('convertToInteractive',\n",
              "                                                    [key], {});\n",
              "        if (!dataTable) return;\n",
              "\n",
              "        const docLinkHtml = 'Like what you see? Visit the ' +\n",
              "          '<a target=\"_blank\" href=https://colab.research.google.com/notebooks/data_table.ipynb>data table notebook</a>'\n",
              "          + ' to learn more about interactive tables.';\n",
              "        element.innerHTML = '';\n",
              "        dataTable['output_type'] = 'display_data';\n",
              "        await google.colab.output.renderOutput(dataTable, element);\n",
              "        const docLink = document.createElement('div');\n",
              "        docLink.innerHTML = docLinkHtml;\n",
              "        element.appendChild(docLink);\n",
              "      }\n",
              "    </script>\n",
              "  </div>\n",
              "\n",
              "\n",
              "<div id=\"df-c02055f3-adc4-46e1-80b8-b02915d43a70\">\n",
              "  <button class=\"colab-df-quickchart\" onclick=\"quickchart('df-c02055f3-adc4-46e1-80b8-b02915d43a70')\"\n",
              "            title=\"Suggest charts.\"\n",
              "            style=\"display:none;\">\n",
              "\n",
              "<svg xmlns=\"http://www.w3.org/2000/svg\" height=\"24px\"viewBox=\"0 0 24 24\"\n",
              "     width=\"24px\">\n",
              "    <g>\n",
              "        <path d=\"M19 3H5c-1.1 0-2 .9-2 2v14c0 1.1.9 2 2 2h14c1.1 0 2-.9 2-2V5c0-1.1-.9-2-2-2zM9 17H7v-7h2v7zm4 0h-2V7h2v10zm4 0h-2v-4h2v4z\"/>\n",
              "    </g>\n",
              "</svg>\n",
              "  </button>\n",
              "\n",
              "<style>\n",
              "  .colab-df-quickchart {\n",
              "      --bg-color: #E8F0FE;\n",
              "      --fill-color: #1967D2;\n",
              "      --hover-bg-color: #E2EBFA;\n",
              "      --hover-fill-color: #174EA6;\n",
              "      --disabled-fill-color: #AAA;\n",
              "      --disabled-bg-color: #DDD;\n",
              "  }\n",
              "\n",
              "  [theme=dark] .colab-df-quickchart {\n",
              "      --bg-color: #3B4455;\n",
              "      --fill-color: #D2E3FC;\n",
              "      --hover-bg-color: #434B5C;\n",
              "      --hover-fill-color: #FFFFFF;\n",
              "      --disabled-bg-color: #3B4455;\n",
              "      --disabled-fill-color: #666;\n",
              "  }\n",
              "\n",
              "  .colab-df-quickchart {\n",
              "    background-color: var(--bg-color);\n",
              "    border: none;\n",
              "    border-radius: 50%;\n",
              "    cursor: pointer;\n",
              "    display: none;\n",
              "    fill: var(--fill-color);\n",
              "    height: 32px;\n",
              "    padding: 0;\n",
              "    width: 32px;\n",
              "  }\n",
              "\n",
              "  .colab-df-quickchart:hover {\n",
              "    background-color: var(--hover-bg-color);\n",
              "    box-shadow: 0 1px 2px rgba(60, 64, 67, 0.3), 0 1px 3px 1px rgba(60, 64, 67, 0.15);\n",
              "    fill: var(--button-hover-fill-color);\n",
              "  }\n",
              "\n",
              "  .colab-df-quickchart-complete:disabled,\n",
              "  .colab-df-quickchart-complete:disabled:hover {\n",
              "    background-color: var(--disabled-bg-color);\n",
              "    fill: var(--disabled-fill-color);\n",
              "    box-shadow: none;\n",
              "  }\n",
              "\n",
              "  .colab-df-spinner {\n",
              "    border: 2px solid var(--fill-color);\n",
              "    border-color: transparent;\n",
              "    border-bottom-color: var(--fill-color);\n",
              "    animation:\n",
              "      spin 1s steps(1) infinite;\n",
              "  }\n",
              "\n",
              "  @keyframes spin {\n",
              "    0% {\n",
              "      border-color: transparent;\n",
              "      border-bottom-color: var(--fill-color);\n",
              "      border-left-color: var(--fill-color);\n",
              "    }\n",
              "    20% {\n",
              "      border-color: transparent;\n",
              "      border-left-color: var(--fill-color);\n",
              "      border-top-color: var(--fill-color);\n",
              "    }\n",
              "    30% {\n",
              "      border-color: transparent;\n",
              "      border-left-color: var(--fill-color);\n",
              "      border-top-color: var(--fill-color);\n",
              "      border-right-color: var(--fill-color);\n",
              "    }\n",
              "    40% {\n",
              "      border-color: transparent;\n",
              "      border-right-color: var(--fill-color);\n",
              "      border-top-color: var(--fill-color);\n",
              "    }\n",
              "    60% {\n",
              "      border-color: transparent;\n",
              "      border-right-color: var(--fill-color);\n",
              "    }\n",
              "    80% {\n",
              "      border-color: transparent;\n",
              "      border-right-color: var(--fill-color);\n",
              "      border-bottom-color: var(--fill-color);\n",
              "    }\n",
              "    90% {\n",
              "      border-color: transparent;\n",
              "      border-bottom-color: var(--fill-color);\n",
              "    }\n",
              "  }\n",
              "</style>\n",
              "\n",
              "  <script>\n",
              "    async function quickchart(key) {\n",
              "      const quickchartButtonEl =\n",
              "        document.querySelector('#' + key + ' button');\n",
              "      quickchartButtonEl.disabled = true;  // To prevent multiple clicks.\n",
              "      quickchartButtonEl.classList.add('colab-df-spinner');\n",
              "      try {\n",
              "        const charts = await google.colab.kernel.invokeFunction(\n",
              "            'suggestCharts', [key], {});\n",
              "      } catch (error) {\n",
              "        console.error('Error during call to suggestCharts:', error);\n",
              "      }\n",
              "      quickchartButtonEl.classList.remove('colab-df-spinner');\n",
              "      quickchartButtonEl.classList.add('colab-df-quickchart-complete');\n",
              "    }\n",
              "    (() => {\n",
              "      let quickchartButtonEl =\n",
              "        document.querySelector('#df-c02055f3-adc4-46e1-80b8-b02915d43a70 button');\n",
              "      quickchartButtonEl.style.display =\n",
              "        google.colab.kernel.accessAllowed ? 'block' : 'none';\n",
              "    })();\n",
              "  </script>\n",
              "</div>\n",
              "    </div>\n",
              "  </div>\n"
            ]
          },
          "metadata": {},
          "execution_count": 5
        }
      ]
    },
    {
      "cell_type": "code",
      "source": [
        "len(data)"
      ],
      "metadata": {
        "colab": {
          "base_uri": "https://localhost:8080/"
        },
        "id": "MqEyNylWAwDu",
        "outputId": "c59c5675-43f9-43db-f9d8-7cc6094e3c60"
      },
      "execution_count": null,
      "outputs": [
        {
          "output_type": "execute_result",
          "data": {
            "text/plain": [
              "500"
            ]
          },
          "metadata": {},
          "execution_count": 6
        }
      ]
    },
    {
      "cell_type": "code",
      "source": [
        "class_count = data[data['Label'] == 0].shape[0]\n",
        "\n",
        "print(f'The number of samples for label 0 is: {class_count}')"
      ],
      "metadata": {
        "colab": {
          "base_uri": "https://localhost:8080/"
        },
        "id": "bn0uqAnuf0k5",
        "outputId": "5daa7a8b-aa3e-49f2-ff0b-3a7def629843"
      },
      "execution_count": null,
      "outputs": [
        {
          "output_type": "stream",
          "name": "stdout",
          "text": [
            "The number of samples for label 0 is: 62\n"
          ]
        }
      ]
    },
    {
      "cell_type": "code",
      "source": [
        "class_count1 = data[data['Label'] == 1].shape[0]\n",
        "\n",
        "print(f'The number of samples for label 1 is: {class_count1}')"
      ],
      "metadata": {
        "colab": {
          "base_uri": "https://localhost:8080/"
        },
        "id": "yepVIC1Uf0eJ",
        "outputId": "9877ec5c-927e-4b8f-c16d-1888ee20cd83"
      },
      "execution_count": null,
      "outputs": [
        {
          "output_type": "stream",
          "name": "stdout",
          "text": [
            "The number of samples for label 1 is: 273\n"
          ]
        }
      ]
    },
    {
      "cell_type": "code",
      "source": [
        "class_count2 = data[data['Label'] == 2].shape[0]\n",
        "\n",
        "print(f'The number of samples for label 2 is: {class_count2}')"
      ],
      "metadata": {
        "colab": {
          "base_uri": "https://localhost:8080/"
        },
        "id": "4b8CZ56bf0WX",
        "outputId": "13ada924-db1c-4803-dff2-bd91f7ee6c45"
      },
      "execution_count": null,
      "outputs": [
        {
          "output_type": "stream",
          "name": "stdout",
          "text": [
            "The number of samples for label 2 is: 165\n"
          ]
        }
      ]
    },
    {
      "cell_type": "code",
      "source": [
        "#In the given data, the label is the indication for whether the person has dislexia or not.\n",
        "#Label = 0 means that there is a high chance that the person has dyslexia.\n",
        "#Label = 1 means that there is a moderate chance that the person has dyslexia.\n",
        "#Label = 2 means that there is a low chance that the person has dyslexia."
      ],
      "metadata": {
        "id": "zSLJ0bIrX5UH"
      },
      "execution_count": null,
      "outputs": []
    },
    {
      "cell_type": "code",
      "source": [
        "#The following test cases will be used to check the values given by each model.\n",
        "test1 = np.array([[0.5, 0.1, 0.2, 0.8, 0.3, 0.5]]) #Readings for applicant 1.\n",
        "test2 = np.array([[0.7, 0.9, 0.4, 0.9, 0.3, 0.8]]) #Readings for applicant 2.\n",
        "test3 = np.array([[0.1, 0.7, 0.2, 0.6, 0.9, 0.6]]) #Readings for applicant 3.\n",
        "test4 = np.array([[0.3, 0.4, 0.5, 0.3, 0.3, 0.5]]) #Readings for applicant 4."
      ],
      "metadata": {
        "id": "GWt9KmfTX65o"
      },
      "execution_count": null,
      "outputs": []
    },
    {
      "cell_type": "code",
      "source": [
        "#Creating the test and train data sets for the given data.\n",
        "X_train,X_test,y_train,y_test=train_test_split(X,y,test_size=0.8,random_state=10)\n",
        "#list to store accuracy values of each model\n",
        "accuracy = [0,0,0]\n",
        "#list to store precision values of each model.\n",
        "precision = [0, 0, 0]\n",
        "#list to store recall values of each model.\n",
        "recall = [0, 0, 0]\n",
        "#list to store f1-score values of each model.\n",
        "fscore = [0, 0, 0]\n",
        "#list to store error in predictions of each model.\n",
        "error = [.0, .0, .0]"
      ],
      "metadata": {
        "id": "sdftk36PX60b"
      },
      "execution_count": null,
      "outputs": []
    },
    {
      "cell_type": "code",
      "source": [
        "#StandardScalar is used for preprocessing of data.\n",
        "#'copy' is False, which means copies are avoid and inplace scaling is done instead.\n",
        "# This means that the scaler computes the mean and standard deviation of each feature in X_train and then scales the features based on these statistics.\n",
        "sc=StandardScaler(copy=False)\n",
        "sc.fit_transform(X_train)\n",
        "sc.transform(X_test)"
      ],
      "metadata": {
        "id": "0apX50IRX6tH",
        "colab": {
          "base_uri": "https://localhost:8080/"
        },
        "outputId": "3ed0dc8c-e31c-4a76-b04d-0cd1b7975d02"
      },
      "execution_count": null,
      "outputs": [
        {
          "output_type": "execute_result",
          "data": {
            "text/plain": [
              "array([[-0.40859278,  0.09423675,  0.57481025,  1.09456548,  0.51247074,\n",
              "         0.54374235],\n",
              "       [ 2.0828266 ,  0.54298319, -0.30276265,  0.14688974,  0.01971041,\n",
              "         0.54374235],\n",
              "       [ 0.0896911 ,  0.09423675,  0.1360238 , -1.27462388, -0.47304992,\n",
              "         0.1016754 ],\n",
              "       ...,\n",
              "       [-0.90687665, -0.80325613, -0.7415491 , -1.74846175, -1.45857058,\n",
              "        -1.22452545],\n",
              "       [-0.90687665,  0.54298319, -0.30276265,  0.14688974, -0.47304992,\n",
              "         0.1016754 ],\n",
              "       [ 0.58797497,  0.09423675,  0.57481025,  2.04224123, -0.47304992,\n",
              "         0.54374235]])"
            ]
          },
          "metadata": {},
          "execution_count": 13
        }
      ]
    },
    {
      "cell_type": "code",
      "source": [
        "#Creating lists of label outputs given in each test case by different models\n",
        "label_1 = [0, 0, 0]\n",
        "label_2 = [0, 0, 0]\n",
        "label_3 = [0, 0, 0]\n",
        "label_4 = [0, 0, 0]"
      ],
      "metadata": {
        "id": "rn20sao5X6pe"
      },
      "execution_count": null,
      "outputs": []
    },
    {
      "cell_type": "code",
      "source": [
        "#Decision Tree"
      ],
      "metadata": {
        "id": "g0r85zysX6l2"
      },
      "execution_count": null,
      "outputs": []
    },
    {
      "cell_type": "code",
      "source": [
        "#Creating the DecisionTree model.\n",
        "dt = DecisionTreeClassifier(random_state = 1)\n",
        "#Training the model.\n",
        "dt.fit(X_train, y_train)\n",
        "#Making predictions using the decision tree model.\n",
        "pred_dt = dt.predict(X_test)\n",
        "#Calculating error\n",
        "error[0] = round(mean_absolute_error(y_test, pred_dt), 3)"
      ],
      "metadata": {
        "id": "s4rfDedUX6iN"
      },
      "execution_count": null,
      "outputs": []
    },
    {
      "cell_type": "code",
      "source": [
        "#Testing the model with predefined test cases.\n",
        "ans_1 = dt.predict((test1))\n",
        "ans_2 = dt.predict((test2))\n",
        "ans_3 = dt.predict((test3))\n",
        "ans_4 = dt.predict((test4))\n",
        "\n",
        "#Storing the above predictions into respective lists.\n",
        "label_1[0] = ans_1[0]\n",
        "label_2[0] = ans_2[0]\n",
        "label_3[0] = ans_3[0]\n",
        "label_4[0] = ans_4[0]"
      ],
      "metadata": {
        "id": "9tdWxrczX6ar",
        "colab": {
          "base_uri": "https://localhost:8080/"
        },
        "outputId": "deb01bb1-c81c-4863-ebd3-d1767ca5be20"
      },
      "execution_count": null,
      "outputs": [
        {
          "output_type": "stream",
          "name": "stderr",
          "text": [
            "/usr/local/lib/python3.10/dist-packages/sklearn/base.py:439: UserWarning: X does not have valid feature names, but DecisionTreeClassifier was fitted with feature names\n",
            "  warnings.warn(\n",
            "/usr/local/lib/python3.10/dist-packages/sklearn/base.py:439: UserWarning: X does not have valid feature names, but DecisionTreeClassifier was fitted with feature names\n",
            "  warnings.warn(\n",
            "/usr/local/lib/python3.10/dist-packages/sklearn/base.py:439: UserWarning: X does not have valid feature names, but DecisionTreeClassifier was fitted with feature names\n",
            "  warnings.warn(\n",
            "/usr/local/lib/python3.10/dist-packages/sklearn/base.py:439: UserWarning: X does not have valid feature names, but DecisionTreeClassifier was fitted with feature names\n",
            "  warnings.warn(\n"
          ]
        }
      ]
    },
    {
      "cell_type": "code",
      "source": [
        "#Random Classifier"
      ],
      "metadata": {
        "id": "o_gK_Pz8X6QS"
      },
      "execution_count": null,
      "outputs": []
    },
    {
      "cell_type": "code",
      "source": [
        "#Creating the RandomClassifier model.\n",
        "rf = RandomForestClassifier(random_state = 0)\n",
        "#Training the model.\n",
        "rf.fit(X_train, y_train)\n",
        "#Making predictions using the model.\n",
        "pred_rf = rf.predict(X_test)\n",
        "#Calculating error\n",
        "error[1] = round(mean_absolute_error(y_test, pred_rf), 3)\n",
        "#Testing the model with predefined test cases.\n",
        "ans_1 = rf.predict((test1))\n",
        "ans_2 = rf.predict((test2))\n",
        "ans_3 = rf.predict((test3))\n",
        "ans_4 = rf.predict((test4))\n",
        "\n",
        "#Storing the above predictions into respective lists.\n",
        "label_1[1] = ans_1[0]\n",
        "label_2[1] = ans_2[0]\n",
        "label_3[1] = ans_3[0]\n",
        "label_4[1] = ans_4[0]"
      ],
      "metadata": {
        "id": "2532aTdqYNsv",
        "colab": {
          "base_uri": "https://localhost:8080/"
        },
        "outputId": "1cb2062c-7e13-447b-bebd-e917cfa30bcf"
      },
      "execution_count": null,
      "outputs": [
        {
          "output_type": "stream",
          "name": "stderr",
          "text": [
            "/usr/local/lib/python3.10/dist-packages/sklearn/base.py:439: UserWarning: X does not have valid feature names, but RandomForestClassifier was fitted with feature names\n",
            "  warnings.warn(\n",
            "/usr/local/lib/python3.10/dist-packages/sklearn/base.py:439: UserWarning: X does not have valid feature names, but RandomForestClassifier was fitted with feature names\n",
            "  warnings.warn(\n",
            "/usr/local/lib/python3.10/dist-packages/sklearn/base.py:439: UserWarning: X does not have valid feature names, but RandomForestClassifier was fitted with feature names\n",
            "  warnings.warn(\n",
            "/usr/local/lib/python3.10/dist-packages/sklearn/base.py:439: UserWarning: X does not have valid feature names, but RandomForestClassifier was fitted with feature names\n",
            "  warnings.warn(\n"
          ]
        }
      ]
    },
    {
      "cell_type": "code",
      "source": [
        "#SVM"
      ],
      "metadata": {
        "id": "XMtFE_-jYNpp"
      },
      "execution_count": null,
      "outputs": []
    },
    {
      "cell_type": "code",
      "source": [
        "#Creating the SVM model.\n",
        "svm = SVC(kernel = \"linear\")\n",
        "#Training the model.\n",
        "svm.fit(X_train, y_train)\n",
        "#Making predictions using the model.\n",
        "pred_svm = svm.predict(X_test)\n",
        "#Calculating error\n",
        "error[2] = round(mean_absolute_error(y_test, pred_svm), 3)\n",
        "#Testing the model with predefined test cases.\n",
        "ans_1 = svm.predict((test1))\n",
        "ans_2 = svm.predict((test2))\n",
        "ans_3 = svm.predict((test3))\n",
        "ans_4 = svm.predict((test4))\n",
        "\n",
        "#Storing the above predictions into respective lists.\n",
        "label_1[2] = ans_1[0]\n",
        "label_2[2] = ans_2[0]\n",
        "label_3[2] = ans_3[0]\n",
        "label_4[2] = ans_4[0]"
      ],
      "metadata": {
        "id": "BTE1esikYNl_",
        "colab": {
          "base_uri": "https://localhost:8080/"
        },
        "outputId": "322ccf46-ed16-426c-84a2-7c72a5cad5e4"
      },
      "execution_count": null,
      "outputs": [
        {
          "output_type": "stream",
          "name": "stderr",
          "text": [
            "/usr/local/lib/python3.10/dist-packages/sklearn/base.py:439: UserWarning: X does not have valid feature names, but SVC was fitted with feature names\n",
            "  warnings.warn(\n",
            "/usr/local/lib/python3.10/dist-packages/sklearn/base.py:439: UserWarning: X does not have valid feature names, but SVC was fitted with feature names\n",
            "  warnings.warn(\n",
            "/usr/local/lib/python3.10/dist-packages/sklearn/base.py:439: UserWarning: X does not have valid feature names, but SVC was fitted with feature names\n",
            "  warnings.warn(\n",
            "/usr/local/lib/python3.10/dist-packages/sklearn/base.py:439: UserWarning: X does not have valid feature names, but SVC was fitted with feature names\n",
            "  warnings.warn(\n"
          ]
        }
      ]
    },
    {
      "cell_type": "code",
      "source": [
        "#list of models\n",
        "models = ['DecisionTree', 'RandomForest','SVM\\t']\n",
        "print('Model\\t\\tError')\n",
        "for i in range(3):\n",
        "    print('{}\\t{}'.format(models[i],error[i]))"
      ],
      "metadata": {
        "id": "rp9TIglgYNgP",
        "colab": {
          "base_uri": "https://localhost:8080/"
        },
        "outputId": "7fad848a-ba95-42d5-9a6c-5aca030fe4c3"
      },
      "execution_count": null,
      "outputs": [
        {
          "output_type": "stream",
          "name": "stdout",
          "text": [
            "Model\t\tError\n",
            "DecisionTree\t0.162\n",
            "RandomForest\t0.072\n",
            "SVM\t\t0.075\n"
          ]
        }
      ]
    },
    {
      "cell_type": "code",
      "source": [
        "#Error is minimum in RandomForest Model.\n",
        "#We can't decide the best model for the given dataset only on the basis of error.\n",
        "#In order to find the best fit, we need to consider precision and recall as well."
      ],
      "metadata": {
        "id": "62jRAeTPYNcm"
      },
      "execution_count": null,
      "outputs": []
    },
    {
      "cell_type": "code",
      "source": [
        "#Printing label lists\n",
        "print(label_1)\n",
        "print(label_2)\n",
        "print(label_3)\n",
        "print(label_4)"
      ],
      "metadata": {
        "id": "-SyxKpyKYNYu",
        "colab": {
          "base_uri": "https://localhost:8080/"
        },
        "outputId": "8e2a0463-7308-45a0-fb3a-94c4dc4580ab"
      },
      "execution_count": null,
      "outputs": [
        {
          "output_type": "stream",
          "name": "stdout",
          "text": [
            "[2, 2, 1]\n",
            "[2, 2, 2]\n",
            "[1, 1, 1]\n",
            "[1, 1, 1]\n"
          ]
        }
      ]
    },
    {
      "cell_type": "code",
      "source": [
        "plt.figure(figsize=(10,5))\n",
        "sns.scatterplot(x = ['DecisionTree', 'RandomForest','SVM'],\n",
        "                y = label_1, s = 200, label = 'test1',)\n",
        "# sns.scatterplot(x = ['DecisionTree', 'RandomForest','SVM'],\n",
        "#                 y = label_2, s = 150, label = 'test2')\n",
        "sns.scatterplot(x = ['DecisionTree', 'RandomForest','SVM'],\n",
        "                y = label_3, s = 100, label = 'test3')\n",
        "sns.scatterplot(x = ['DecisionTree', 'RandomForest','SVM'],\n",
        "                y = label_4, s = 50, label = 'test4')\n",
        "sns.lineplot(x = ['DecisionTree', 'RandomForest','SVM'],\n",
        "                y = label_1)\n",
        "# sns.lineplot(x = ['DecisionTree', 'RandomForest','SVM'],\n",
        "#                 y = label_2)\n",
        "sns.lineplot(x = ['DecisionTree', 'RandomForest','SVM'],\n",
        "                y = label_3)\n",
        "sns.lineplot(x = ['DecisionTree', 'RandomForest','SVM'],\n",
        "                y = label_4)\n",
        "plt.show()"
      ],
      "metadata": {
        "id": "PPdS_f9aYNUS",
        "colab": {
          "base_uri": "https://localhost:8080/",
          "height": 445
        },
        "outputId": "6e4ca442-3c4f-43df-df5c-a700951d45f0"
      },
      "execution_count": null,
      "outputs": [
        {
          "output_type": "display_data",
          "data": {
            "text/plain": [
              "<Figure size 1000x500 with 1 Axes>"
            ],
            "image/png": "[encoded data removed]"
          },
          "metadata": {}
        }
      ]
    },
    {
      "cell_type": "code",
      "source": [
        "#Confusion matrix for Decision tree model.\n",
        "cm = confusion_matrix(np.array(y_test), pred_dt)\n",
        "disp = ConfusionMatrixDisplay(confusion_matrix=cm,display_labels=[0,1,2])\n",
        "disp.plot()\n",
        "plt.show()\n",
        "#Finding precision, recall and f-score for Decision Tree Model and updating values in respective lists.\n",
        "precision[0], recall[0], fscore[0], Nil = precision_recall_fscore_support(y_test, pred_dt, average='macro')\n",
        "accuracy[0] = accuracy_score(y_test, pred_dt)\n",
        "print('For a DecisionTreeClassifier: Precision = %.3f, Recall = %.3f, F1-score = %.3f, Accuracy = %.3f' % (precision[0], recall[0], fscore[0], accuracy[0]))"
      ],
      "metadata": {
        "colab": {
          "base_uri": "https://localhost:8080/",
          "height": 467
        },
        "id": "irX5nfwnDpOl",
        "outputId": "82770453-0797-4f60-c94c-900b193530e3"
      },
      "execution_count": null,
      "outputs": [
        {
          "output_type": "display_data",
          "data": {
            "text/plain": [
              "<Figure size 640x480 with 2 Axes>"
            ],
            "image/png": "[encoded data removed]"
          },
          "metadata": {}
        },
        {
          "output_type": "stream",
          "name": "stdout",
          "text": [
            "For a DecisionTreeClassifier: Precision = 0.826, Recall = 0.828, F1-score = 0.826, Accuracy = 0.838\n"
          ]
        }
      ]
    },
    {
      "cell_type": "code",
      "source": [
        "#Confusion matrix for RandomForest model.\n",
        "cm_1 = confusion_matrix(np.array(y_test), pred_rf)\n",
        "disp_1 = ConfusionMatrixDisplay(confusion_matrix=cm_1,display_labels=[0,1,2])\n",
        "disp_1.plot()\n",
        "plt.show()\n",
        "#Finding precision, recall and f-score for RandomForest Model and updating values in respective lists.\n",
        "precision[1], recall[1], fscore[1], Nil = precision_recall_fscore_support(y_test, pred_rf, average='macro')\n",
        "accuracy[1] = accuracy_score(y_test, pred_rf)\n",
        "print('For a RandomForestClassifier:  Precision = %.3f, Recall = %.3f, F1-score = %.3f, Accuracy = %.3f' %(precision[1], recall[1], fscore[1],accuracy[1]))"
      ],
      "metadata": {
        "colab": {
          "base_uri": "https://localhost:8080/",
          "height": 467
        },
        "id": "fFVN-kiLDvbf",
        "outputId": "f72bbdc1-a14b-40bb-e1d0-ffae44ca8c92"
      },
      "execution_count": null,
      "outputs": [
        {
          "output_type": "display_data",
          "data": {
            "text/plain": [
              "<Figure size 640x480 with 2 Axes>"
            ],
            "image/png": "[encoded data removed]"
          },
          "metadata": {}
        },
        {
          "output_type": "stream",
          "name": "stdout",
          "text": [
            "For a RandomForestClassifier:  Precision = 0.925, Recall = 0.938, F1-score = 0.931, Accuracy = 0.927\n"
          ]
        }
      ]
    },
    {
      "cell_type": "code",
      "source": [
        "#Confusion matrix for SVM model\n",
        "cm_2 = confusion_matrix(np.array(y_test), pred_svm)\n",
        "disp_2 = ConfusionMatrixDisplay(confusion_matrix=cm_2,display_labels=[0,1,2])\n",
        "disp_2.plot()\n",
        "plt.show()\n",
        "#Finding precision, recall and f-score for SVM model and updating values in respective lists.\n",
        "precision[2], recall[2], fscore[2], Nil = precision_recall_fscore_support(y_test, pred_svm, average='macro')\n",
        "accuracy[2] = accuracy_score(y_test, pred_svm)\n",
        "print('For an SVM model: Precision = %.3f, Recall = %.3f, F1-score = %.3f, Accuracy = %.3f' % (precision[2], recall[2], fscore[2], accuracy[2]))"
      ],
      "metadata": {
        "colab": {
          "base_uri": "https://localhost:8080/",
          "height": 467
        },
        "id": "e7Jo9CtpHGZt",
        "outputId": "1ae38d3c-32c9-4851-a117-a0c07953b40d"
      },
      "execution_count": null,
      "outputs": [
        {
          "output_type": "display_data",
          "data": {
            "text/plain": [
              "<Figure size 640x480 with 2 Axes>"
            ],
            "image/png": "[encoded data removed]"
          },
          "metadata": {}
        },
        {
          "output_type": "stream",
          "name": "stdout",
          "text": [
            "For an SVM model: Precision = 0.920, Recall = 0.924, F1-score = 0.922, Accuracy = 0.925\n"
          ]
        }
      ]
    },
    {
      "cell_type": "code",
      "source": [
        "#Creating a line plot to compare teh precision, recall and f1-score of all the models.\n",
        "#This graph is plotted to find the best fit for our dataset.\n",
        "plt.figure(figsize=(15,5))\n",
        "sns.lineplot(x = ['DecisionTree', 'RandomForest','SVM'],\n",
        "             y = precision,label = 'precision')\n",
        "sns.lineplot(x = ['DecisionTree', 'RandomForest','SVM'],\n",
        "             y = recall,label = 'recall')\n",
        "sns.lineplot(x = ['DecisionTree', 'RandomForest','SVM'],\n",
        "             y = fscore,label = 'f1-score')\n",
        "plt.show()"
      ],
      "metadata": {
        "colab": {
          "base_uri": "https://localhost:8080/",
          "height": 445
        },
        "id": "m4BKo1ahHVpD",
        "outputId": "c153eb35-a493-4385-8ba6-ad7fc2f71f8f"
      },
      "execution_count": null,
      "outputs": [
        {
          "output_type": "display_data",
          "data": {
            "text/plain": [
              "<Figure size 1500x500 with 1 Axes>"
            ],
            "image/png": "[encoded data removed]"
          },
          "metadata": {}
        }
      ]
    },
    {
      "cell_type": "code",
      "source": [
        "# List of possible n_estimators values\n",
        "n_est = [10, 100, 500, 1000]\n",
        "best_score = 0\n",
        "best_n_estimators = None\n",
        "accuracy_scores = []\n",
        "error_scores = []\n",
        "\n",
        "for n_estimators in range(1,200):\n",
        "    # Create a Random Forest model with the current n_estimators value\n",
        "    model = RandomForestClassifier(n_estimators=n_estimators, random_state=0)\n",
        "\n",
        "    # Train the model on the training set\n",
        "    model.fit(X_train, y_train)\n",
        "\n",
        "    # Make predictions on the validation set\n",
        "    predictions = model.predict(X_test)\n",
        "\n",
        "    # Evaluate the model's performance using the F1 score\n",
        "    score = f1_score(y_test, predictions, average='macro')\n",
        "    error = 1 - model.score(X_test, y_test)\n",
        "\n",
        "    # Append accuracy and error to their respective lists\n",
        "    accuracy_scores.append(score)\n",
        "    error_scores.append(error)\n",
        "\n",
        "    # Check if this model's score is better than the current best score\n",
        "    if score > best_score:\n",
        "        best_score = score\n",
        "        best_n_estimators = n_estimators\n",
        "\n",
        "# Train a Random Forest model with the best n_estimators value on the entire training set\n",
        "best_model = RandomForestClassifier(n_estimators=best_n_estimators, random_state=0)\n",
        "best_model.fit(X_train, y_train)\n",
        "\n",
        "# Make predictions using the best model on the test set\n",
        "predictions = best_model.predict(X_test)\n",
        "\n",
        "# Print the best value of n_estimators\n",
        "print('Best value of n_estimators for RandomForest model is:', best_n_estimators)\n"
      ],
      "metadata": {
        "colab": {
          "base_uri": "https://localhost:8080/"
        },
        "id": "lH-a5kFNJ0qg",
        "outputId": "b25a88ae-2f70-404f-9ebd-61d5fd73cf14"
      },
      "execution_count": null,
      "outputs": [
        {
          "output_type": "stream",
          "name": "stdout",
          "text": [
            "Best value of n_estimators for RandomForest model is: 134\n"
          ]
        }
      ]
    },
    {
      "cell_type": "code",
      "source": [
        "plt.figure(figsize=(10, 6))\n",
        "plt.plot(range(1, 200), accuracy_scores, label='Accuracy', marker='o')\n",
        "plt.plot(range(1, 200), error_scores, label='Error', marker='x')\n",
        "plt.xlabel('n_estimators')\n",
        "plt.ylabel('Score')\n",
        "plt.title('Accuracy and Error')\n",
        "plt.legend()\n",
        "plt.grid()\n",
        "plt.show()"
      ],
      "metadata": {
        "colab": {
          "base_uri": "https://localhost:8080/",
          "height": 564
        },
        "id": "RqLiY2UCWM6Y",
        "outputId": "8b9a372c-17ca-481e-cf07-ae8016473afb"
      },
      "execution_count": null,
      "outputs": [
        {
          "output_type": "display_data",
          "data": {
            "text/plain": [
              "<Figure size 1000x600 with 1 Axes>"
            ],
            "image/png": "[encoded data removed]"
          },
          "metadata": {}
        }
      ]
    },
    {
      "cell_type": "code",
      "source": [
        "precision_best, recall_best, fscore_best, Nil = precision_recall_fscore_support(y_test, predictions, average='macro')\n",
        "accuracy_best = accuracy_score(y_test, predictions)\n",
        "print('For a RandomForestClassifier: Precision = %.3f, Recall = %.3f, F1-score = %.3f, Accuracy = %.3f' % (precision_best, recall_best, fscore_best, accuracy_best))"
      ],
      "metadata": {
        "colab": {
          "base_uri": "https://localhost:8080/"
        },
        "id": "e3GjSnc7KLBy",
        "outputId": "fd4e9c0b-501c-4de4-e335-37904aeb7a15"
      },
      "execution_count": null,
      "outputs": [
        {
          "output_type": "stream",
          "name": "stdout",
          "text": [
            "For a RandomForestClassifier: Precision = 0.929, Recall = 0.942, F1-score = 0.935, Accuracy = 0.932\n"
          ]
        }
      ]
    },
    {
      "cell_type": "code",
      "source": [
        "#Testing the model with predefined test cases.\n",
        "ans_1 = int(best_model.predict((test1)))\n",
        "ans_2 = int(best_model.predict((test2)))\n",
        "ans_3 = int(best_model.predict((test3)))\n",
        "ans_4 = int(best_model.predict((test4)))\n",
        "print(ans_1)"
      ],
      "metadata": {
        "colab": {
          "base_uri": "https://localhost:8080/"
        },
        "id": "LwrFKSTEZmZl",
        "outputId": "c6777f2c-2fd0-4b02-e428-cd7ffc87738a"
      },
      "execution_count": null,
      "outputs": [
        {
          "output_type": "stream",
          "name": "stdout",
          "text": [
            "2\n"
          ]
        },
        {
          "output_type": "stream",
          "name": "stderr",
          "text": [
            "/usr/local/lib/python3.10/dist-packages/sklearn/base.py:439: UserWarning: X does not have valid feature names, but RandomForestClassifier was fitted with feature names\n",
            "  warnings.warn(\n",
            "/usr/local/lib/python3.10/dist-packages/sklearn/base.py:439: UserWarning: X does not have valid feature names, but RandomForestClassifier was fitted with feature names\n",
            "  warnings.warn(\n",
            "/usr/local/lib/python3.10/dist-packages/sklearn/base.py:439: UserWarning: X does not have valid feature names, but RandomForestClassifier was fitted with feature names\n",
            "  warnings.warn(\n",
            "/usr/local/lib/python3.10/dist-packages/sklearn/base.py:439: UserWarning: X does not have valid feature names, but RandomForestClassifier was fitted with feature names\n",
            "  warnings.warn(\n"
          ]
        }
      ]
    },
    {
      "cell_type": "code",
      "source": [
        "#Therefore the most accurate results for all the applicants are as follows.\n",
        "possibility = {0: \"High\", 1: \"Moderate\", 2: \"Low\"}\n",
        "print('Applicant\\tLabel\\tPossibility of Dyslexia')\n",
        "print('1\\t\\t{}\\t\\t{}'.format(ans_1, possibility[ans_1]))\n",
        "print('2\\t\\t{}\\t\\t{}'.format(ans_2, possibility[ans_2]))\n",
        "print('3\\t\\t{}\\t\\t{}'.format(ans_3, possibility[ans_3]))\n",
        "print('4\\t\\t{}\\t\\t{}'.format(ans_4, possibility[ans_4]))"
      ],
      "metadata": {
        "colab": {
          "base_uri": "https://localhost:8080/"
        },
        "id": "KsNKtQn0Hg4I",
        "outputId": "d47bf1c6-da2e-4945-8ea1-00b9eb5013eb"
      },
      "execution_count": null,
      "outputs": [
        {
          "output_type": "stream",
          "name": "stdout",
          "text": [
            "Applicant\tLabel\tPossibility of Dyslexia\n",
            "1\t\t2\t\tLow\n",
            "2\t\t2\t\tLow\n",
            "3\t\t1\t\tModerate\n",
            "4\t\t1\t\tModerate\n"
          ]
        }
      ]
    },
    {
      "cell_type": "markdown",
      "source": [
        "User Input\n"
      ],
      "metadata": {
        "id": "EP0dASG58SO1"
      }
    },
    {
      "cell_type": "code",
      "source": [
        "#Getting input from user\n",
        "name = input(\"Enter name of applicant: \")\n",
        "print(\"\\nThe scores of all the tests in quiz as well as survey need to be entered.\")\n",
        "print(\"All the values lie in the range 0 to 1.\\n\")\n",
        "lang_vocab = float(input(\"Enter the score of Language Vocab test: \"))\n",
        "memory = float(input(\"Enter the score of Memory test: \"))\n",
        "speed = float(input(\"Enter the score of Speed test: \"))\n",
        "visual = float(input(\"Enter the score of Visual Discrimination test: \"))\n",
        "audio = float(input(\"Enter the score of Audio Discrimination test: \"))\n",
        "survey = float(input(\"Enter the score obtained from Survey: \"))"
      ],
      "metadata": {
        "id": "g3lQsu7p8UBR",
        "colab": {
          "base_uri": "https://localhost:8080/"
        },
        "outputId": "6e2d8bd9-8bce-4f16-f42d-d6dd5531980e"
      },
      "execution_count": null,
      "outputs": [
        {
          "name": "stdout",
          "output_type": "stream",
          "text": [
            "Enter name of applicant: a\n",
            "\n",
            "The scores of all the tests in quiz as well as survey need to be entered.\n",
            "All the values lie in the range 0 to 1.\n",
            "\n",
            "Enter the score of Language Vocab test: 0.1\n",
            "Enter the score of Memory test: 0.2\n",
            "Enter the score of Speed test: 0.3\n",
            "Enter the score of Visual Discrimination test: 0.4\n",
            "Enter the score of Audio Discrimination test: 0.5\n",
            "Enter the score obtained from Survey: 0.6\n"
          ]
        }
      ]
    },
    {
      "cell_type": "code",
      "source": [
        "#Creating a 2D array from the given scores.\n",
        "#Input taken by our model is a 2D array.\n",
        "#get_result function can be run to get result from the survey.\n",
        "def get_result(lang_vocab, memory, speed, visual, audio, survey):\n",
        "    #2D numpy array created with the values input by the user.\n",
        "    array = np.array([[lang_vocab, memory, speed, visual, audio, survey]])\n",
        "    #The output given by model is converted into an int and stored in label.\n",
        "    label = int(best_model.predict(array))\n",
        "    #Giving final output to user depending upon the model prediction.\n",
        "    if(label == 0):\n",
        "        output = \"There is a high chance of the applicant to have dyslexia.\"\n",
        "    elif(label == 1):\n",
        "        output = \"There is a moderate chance of the applicant to have dyslexia.\"\n",
        "    else:\n",
        "        output = \"There is a low chance of the applicant to have dyslexia.\"\n",
        "    return output"
      ],
      "metadata": {
        "id": "MKxbolkK8lef"
      },
      "execution_count": null,
      "outputs": []
    },
    {
      "cell_type": "code",
      "source": [
        "get_result(lang_vocab, memory, speed, visual, audio, survey)\n"
      ],
      "metadata": {
        "id": "aMQUaKYw8nQk",
        "colab": {
          "base_uri": "https://localhost:8080/",
          "height": 91
        },
        "outputId": "d9849136-37bd-49de-9221-1ad3c5117819"
      },
      "execution_count": null,
      "outputs": [
        {
          "output_type": "stream",
          "name": "stderr",
          "text": [
            "/usr/local/lib/python3.10/dist-packages/sklearn/base.py:439: UserWarning: X does not have valid feature names, but RandomForestClassifier was fitted with feature names\n",
            "  warnings.warn(\n"
          ]
        },
        {
          "output_type": "execute_result",
          "data": {
            "text/plain": [
              "'There is a moderate chance of the applicant to have dyslexia.'"
            ],
            "application/vnd.google.colaboratory.intrinsic+json": {
              "type": "string"
            }
          },
          "metadata": {},
          "execution_count": 37
        }
      ]
    }
  ]
}